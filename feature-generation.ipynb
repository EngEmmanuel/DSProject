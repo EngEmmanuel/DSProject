{
 "metadata": {
  "language_info": {
   "codemirror_mode": {
    "name": "ipython",
    "version": 3
   },
   "file_extension": ".py",
   "mimetype": "text/x-python",
   "name": "python",
   "nbconvert_exporter": "python",
   "pygments_lexer": "ipython3",
   "version": "3.9.1-final"
  },
  "orig_nbformat": 2,
  "kernelspec": {
   "name": "python3",
   "display_name": "Python 3.9.1 64-bit ('DSProjectEnv': conda)",
   "metadata": {
    "interpreter": {
     "hash": "958b2a40e7f34737b2e1b60d4326345ad781efd842fd56b1ca0eaaf9247015f7"
    }
   }
  }
 },
 "nbformat": 4,
 "nbformat_minor": 2,
 "cells": [
  {
   "cell_type": "code",
   "execution_count": 2,
   "metadata": {},
   "outputs": [],
   "source": [
    "import numpy as np\n",
    "import pandas as pd\n",
    "import os\n",
    "\n",
    "from rdkit import Chem\n",
    "from rdkit import DataStructs\n",
    "from rdkit.Chem import AllChem\n",
    "from rdkit.Chem import Descriptors"
   ]
  },
  {
   "cell_type": "code",
   "execution_count": 3,
   "metadata": {},
   "outputs": [],
   "source": [
    "# Read in the chembl data: contains chembl_id, pchembl_value, assay_type and canonical_smiles – among other columns\n",
    "file_name = 'cah2_extracted_chembl_data_ours.csv'\n",
    "df = pd.read_csv(os.path.join('../DSProject/data',file_name)) # ! diff path\n",
    "## select columns of interest\n",
    "### note that for all columns, standard_type='Ki', standard_relation='=', data_validity_comment=NaN, potential_duplicate=0, assay_type='B'\n",
    "df = df[['target_chembl_id','molecule_chembl_id','assay_chembl_id','pchembl_value','canonical_smiles','standard_type','assay_type','description']]\n",
    "# df"
   ]
  },
  {
   "cell_type": "code",
   "execution_count": 4,
   "metadata": {},
   "outputs": [
    {
     "output_type": "execute_result",
     "data": {
      "text/plain": [
       "     target_chembl_id molecule_chembl_id  \\\n",
       "0           CHEMBL205       CHEMBL100075   \n",
       "1           CHEMBL205       CHEMBL100266   \n",
       "2           CHEMBL205       CHEMBL100329   \n",
       "3           CHEMBL205       CHEMBL100456   \n",
       "4           CHEMBL205       CHEMBL100580   \n",
       "...               ...                ...   \n",
       "4961        CHEMBL205        CHEMBL99697   \n",
       "4962        CHEMBL205        CHEMBL99736   \n",
       "4963        CHEMBL205        CHEMBL99855   \n",
       "4964        CHEMBL205        CHEMBL99927   \n",
       "4965        CHEMBL205        CHEMBL99958   \n",
       "\n",
       "                                       canonical_smiles standard_type  \\\n",
       "0     CC(C)c1cc(-c2ccccc2)cc(C(C)C)[n+]1CC(=O)OCCOc1...            Ki   \n",
       "1     CN(C)CCOC(=O)c1cccc(S(=O)(=O)Nc2nnc(S(N)(=O)=O...            Ki   \n",
       "2     CCN(CC)CCNC(=O)c1cccc(S(=O)(=O)Nc2nnc(S(N)(=O)...            Ki   \n",
       "3     CCc1cc(-c2ccccc2)cc(CC)[n+]1CC(=O)Oc1ccc2nc(S(...            Ki   \n",
       "4     Cc1cc(C)[n+](CC(=O)NNc2ccc(S(N)(=O)=O)cc2)c(C)...            Ki   \n",
       "...                                                 ...           ...   \n",
       "4961  CCc1cc(-c2ccccc2)cc(CC)[n+]1CC(=O)Nc1ccc(S(N)(...            Ki   \n",
       "4962  Cc1cc(C)[n+](CC(=O)NCCC(=O)Nc2nnc(S(N)(=O)=O)s...            Ki   \n",
       "4963  Cc1cc(-c2ccccc2)cc(C)[n+]1CC(=O)NCCC(=O)Nc1nnc...            Ki   \n",
       "4964  COCCOC(=O)c1ccc(S(=O)(=O)Nc2nnc(S(N)(=O)=O)s2)cc1            Ki   \n",
       "4965  Cc1cc(C)[n+](CC(=O)Nc2cccc(S(N)(=O)=O)c2)c(C)c...            Ki   \n",
       "\n",
       "     assay_type  pchembl_value  \n",
       "0             B           8.15  \n",
       "1             B           8.68  \n",
       "2             B           8.77  \n",
       "3             B           8.15  \n",
       "4             B           6.50  \n",
       "...         ...            ...  \n",
       "4961          B           7.82  \n",
       "4962          B           8.15  \n",
       "4963          B           8.40  \n",
       "4964          B           8.55  \n",
       "4965          B           6.60  \n",
       "\n",
       "[4966 rows x 6 columns]"
      ],
      "text/html": "<div>\n<style scoped>\n    .dataframe tbody tr th:only-of-type {\n        vertical-align: middle;\n    }\n\n    .dataframe tbody tr th {\n        vertical-align: top;\n    }\n\n    .dataframe thead th {\n        text-align: right;\n    }\n</style>\n<table border=\"1\" class=\"dataframe\">\n  <thead>\n    <tr style=\"text-align: right;\">\n      <th></th>\n      <th>target_chembl_id</th>\n      <th>molecule_chembl_id</th>\n      <th>canonical_smiles</th>\n      <th>standard_type</th>\n      <th>assay_type</th>\n      <th>pchembl_value</th>\n    </tr>\n  </thead>\n  <tbody>\n    <tr>\n      <th>0</th>\n      <td>CHEMBL205</td>\n      <td>CHEMBL100075</td>\n      <td>CC(C)c1cc(-c2ccccc2)cc(C(C)C)[n+]1CC(=O)OCCOc1...</td>\n      <td>Ki</td>\n      <td>B</td>\n      <td>8.15</td>\n    </tr>\n    <tr>\n      <th>1</th>\n      <td>CHEMBL205</td>\n      <td>CHEMBL100266</td>\n      <td>CN(C)CCOC(=O)c1cccc(S(=O)(=O)Nc2nnc(S(N)(=O)=O...</td>\n      <td>Ki</td>\n      <td>B</td>\n      <td>8.68</td>\n    </tr>\n    <tr>\n      <th>2</th>\n      <td>CHEMBL205</td>\n      <td>CHEMBL100329</td>\n      <td>CCN(CC)CCNC(=O)c1cccc(S(=O)(=O)Nc2nnc(S(N)(=O)...</td>\n      <td>Ki</td>\n      <td>B</td>\n      <td>8.77</td>\n    </tr>\n    <tr>\n      <th>3</th>\n      <td>CHEMBL205</td>\n      <td>CHEMBL100456</td>\n      <td>CCc1cc(-c2ccccc2)cc(CC)[n+]1CC(=O)Oc1ccc2nc(S(...</td>\n      <td>Ki</td>\n      <td>B</td>\n      <td>8.15</td>\n    </tr>\n    <tr>\n      <th>4</th>\n      <td>CHEMBL205</td>\n      <td>CHEMBL100580</td>\n      <td>Cc1cc(C)[n+](CC(=O)NNc2ccc(S(N)(=O)=O)cc2)c(C)...</td>\n      <td>Ki</td>\n      <td>B</td>\n      <td>6.50</td>\n    </tr>\n    <tr>\n      <th>...</th>\n      <td>...</td>\n      <td>...</td>\n      <td>...</td>\n      <td>...</td>\n      <td>...</td>\n      <td>...</td>\n    </tr>\n    <tr>\n      <th>4961</th>\n      <td>CHEMBL205</td>\n      <td>CHEMBL99697</td>\n      <td>CCc1cc(-c2ccccc2)cc(CC)[n+]1CC(=O)Nc1ccc(S(N)(...</td>\n      <td>Ki</td>\n      <td>B</td>\n      <td>7.82</td>\n    </tr>\n    <tr>\n      <th>4962</th>\n      <td>CHEMBL205</td>\n      <td>CHEMBL99736</td>\n      <td>Cc1cc(C)[n+](CC(=O)NCCC(=O)Nc2nnc(S(N)(=O)=O)s...</td>\n      <td>Ki</td>\n      <td>B</td>\n      <td>8.15</td>\n    </tr>\n    <tr>\n      <th>4963</th>\n      <td>CHEMBL205</td>\n      <td>CHEMBL99855</td>\n      <td>Cc1cc(-c2ccccc2)cc(C)[n+]1CC(=O)NCCC(=O)Nc1nnc...</td>\n      <td>Ki</td>\n      <td>B</td>\n      <td>8.40</td>\n    </tr>\n    <tr>\n      <th>4964</th>\n      <td>CHEMBL205</td>\n      <td>CHEMBL99927</td>\n      <td>COCCOC(=O)c1ccc(S(=O)(=O)Nc2nnc(S(N)(=O)=O)s2)cc1</td>\n      <td>Ki</td>\n      <td>B</td>\n      <td>8.55</td>\n    </tr>\n    <tr>\n      <th>4965</th>\n      <td>CHEMBL205</td>\n      <td>CHEMBL99958</td>\n      <td>Cc1cc(C)[n+](CC(=O)Nc2cccc(S(N)(=O)=O)c2)c(C)c...</td>\n      <td>Ki</td>\n      <td>B</td>\n      <td>6.60</td>\n    </tr>\n  </tbody>\n</table>\n<p>4966 rows × 6 columns</p>\n</div>"
     },
     "metadata": {},
     "execution_count": 4
    }
   ],
   "source": [
    "# Identify duplicated entries\n",
    "# df = df.sort_values(by='molecule_chembl_id')\n",
    "# df[df.duplicated(subset=['molecule_chembl_id'])]\n",
    "\n",
    "# Obtain the mean pchembl_value of duplicated entries – all entries are Ki\n",
    "# df.groupby('molecule_chembl_id')['pchembl_value'].mean()\n",
    "df = df.groupby(['target_chembl_id','molecule_chembl_id','canonical_smiles','standard_type','assay_type']).mean().reset_index()\n",
    "\n",
    "# Remove molecules for which no 3D coordinates can be computed, as electroshape requires 3D coordinates\n",
    "## Entry 1187; CHEMBL2105487; smiles=[S]\n",
    "# df = df.drop(df.loc[df['molecule_chembl_id'] == 'CHEMBL2105487'].index, axis=0)\n",
    "# ## Entry\n",
    "df"
   ]
  },
  {
   "cell_type": "code",
   "execution_count": 5,
   "metadata": {},
   "outputs": [],
   "source": [
    "# Compute features"
   ]
  },
  {
   "cell_type": "code",
   "execution_count": 6,
   "metadata": {},
   "outputs": [],
   "source": [
    "## Compute molecular descriptors using RDKit"
   ]
  },
  {
   "cell_type": "code",
   "execution_count": 7,
   "metadata": {},
   "outputs": [],
   "source": [
    "# Get rdkit molecule info – code from Fergus Boyles\n",
    "molecules = df['canonical_smiles'].apply(Chem.MolFromSmiles).dropna()\n",
    "df['RDKit_Molecule'] = molecules"
   ]
  },
  {
   "cell_type": "code",
   "execution_count": 7,
   "metadata": {},
   "outputs": [],
   "source": [
    "### Obtain RDKit molecule descriptors\n",
    "\n",
    "# Helper function to compute descriptors for a single molecule – from Fergus B\n",
    "def compute_descriptors(molecule):\n",
    "    descriptors = {d[0]: d[1](molecule) for d in Descriptors.descList}\n",
    "    descriptors = pd.Series(descriptors)\n",
    "    return descriptors\n",
    "\n",
    "descriptors = df['RDKit_Molecule'].apply(compute_descriptors)"
   ]
  },
  {
   "cell_type": "code",
   "execution_count": 1,
   "metadata": {},
   "outputs": [
    {
     "output_type": "error",
     "ename": "NameError",
     "evalue": "name 'df' is not defined",
     "traceback": [
      "\u001b[0;31m---------------------------------------------------------------------------\u001b[0m",
      "\u001b[0;31mNameError\u001b[0m                                 Traceback (most recent call last)",
      "\u001b[0;32m<ipython-input-1-47a77a604bf2>\u001b[0m in \u001b[0;36m<module>\u001b[0;34m\u001b[0m\n\u001b[1;32m      6\u001b[0m fps = [\n\u001b[1;32m      7\u001b[0m     \u001b[0mAllChem\u001b[0m\u001b[0;34m.\u001b[0m\u001b[0mGetMorganFingerprintAsBitVect\u001b[0m\u001b[0;34m(\u001b[0m\u001b[0mmol\u001b[0m\u001b[0;34m,\u001b[0m \u001b[0mbond_radius\u001b[0m\u001b[0;34m,\u001b[0m \u001b[0mnBits\u001b[0m\u001b[0;34m=\u001b[0m\u001b[0mnBits\u001b[0m\u001b[0;34m)\u001b[0m\u001b[0;34m\u001b[0m\u001b[0;34m\u001b[0m\u001b[0m\n\u001b[0;32m----> 8\u001b[0;31m     \u001b[0;32mfor\u001b[0m \u001b[0mmol\u001b[0m \u001b[0;32min\u001b[0m \u001b[0mdf\u001b[0m\u001b[0;34m[\u001b[0m\u001b[0;34m'RDKit_Molecule'\u001b[0m\u001b[0;34m]\u001b[0m\u001b[0;34m\u001b[0m\u001b[0;34m\u001b[0m\u001b[0m\n\u001b[0m\u001b[1;32m      9\u001b[0m ]\n\u001b[1;32m     10\u001b[0m \u001b[0;34m\u001b[0m\u001b[0m\n",
      "\u001b[0;31mNameError\u001b[0m: name 'df' is not defined"
     ]
    }
   ],
   "source": [
    "## Compute fingerprint features\n",
    "\n",
    "bond_radius = 2\n",
    "nBits = 2048\n",
    "\n",
    "fps = [\n",
    "    AllChem.GetMorganFingerprintAsBitVect(mol, bond_radius, nBits=nBits)\n",
    "    for mol in df['RDKit_Molecule']\n",
    "]\n",
    "\n",
    "fps_arr = [np.array(bitvec) for bitvec in fps]\n",
    "fps_df = pd.DataFrame(fps_arr)"
   ]
  },
  {
   "cell_type": "code",
   "execution_count": 8,
   "metadata": {},
   "outputs": [],
   "source": [
    "df_w_rdkit_desc = pd.concat([df, descriptors], axis=1)\n",
    "# df_w_rdkit_desc.to_csv('data/cah2_chembl_data_plus_rdkit_descriptors.csv', index=False)"
   ]
  },
  {
   "cell_type": "code",
   "execution_count": null,
   "metadata": {},
   "outputs": [],
   "source": []
  }
 ]
}
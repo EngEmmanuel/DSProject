{
 "metadata": {
  "language_info": {
   "codemirror_mode": {
    "name": "ipython",
    "version": 3
   },
   "file_extension": ".py",
   "mimetype": "text/x-python",
   "name": "python",
   "nbconvert_exporter": "python",
   "pygments_lexer": "ipython3",
   "version": "3.9.1-final"
  },
  "orig_nbformat": 2,
  "kernelspec": {
   "name": "python3",
   "display_name": "Python 3.9.1 64-bit ('DSProjectEnv': conda)",
   "metadata": {
    "interpreter": {
     "hash": "958b2a40e7f34737b2e1b60d4326345ad781efd842fd56b1ca0eaaf9247015f7"
    }
   }
  }
 },
 "nbformat": 4,
 "nbformat_minor": 2,
 "cells": [
  {
   "cell_type": "code",
   "execution_count": 1,
   "metadata": {},
   "outputs": [],
   "source": [
    "import numpy as np\n",
    "import pandas as pd\n",
    "import os\n",
    "from rdkit import Chem, ML\n",
    "from rdkit.ML import Descriptors\n",
    "from rdkit.ML.Descriptors import MoleculeDescriptors\n",
    "from rdkit.Chem import SaltRemover\n",
    "import oddt\n",
    "from oddt import virtualscreening\n",
    "from oddt.virtualscreening import electroshape"
   ]
  },
  {
   "cell_type": "code",
   "execution_count": 2,
   "metadata": {},
   "outputs": [],
   "source": [
    "# Read in the chembl data: contains chembl_id, pchembl_value, assay_type and canonical_smiles – among other columns\n",
    "file_name = 'cah2_extracted_chembl_data_ours.csv'\n",
    "df = pd.read_csv(os.path.join('../DSProject/data',file_name)) # ! diff path\n",
    "## select columns of interest\n",
    "### note that for all columns, standard_type='Ki', standard_relation='=', data_validity_comment=NaN, potential_duplicate=0, assay_type='B'\n",
    "df = df[['target_chembl_id','molecule_chembl_id','assay_chembl_id','pchembl_value','canonical_smiles','standard_type','assay_type','description']]\n",
    "# df"
   ]
  },
  {
   "cell_type": "code",
   "execution_count": 3,
   "metadata": {},
   "outputs": [
    {
     "output_type": "execute_result",
     "data": {
      "text/plain": [
       "     target_chembl_id molecule_chembl_id  \\\n",
       "0           CHEMBL205       CHEMBL100075   \n",
       "1           CHEMBL205       CHEMBL100266   \n",
       "2           CHEMBL205       CHEMBL100329   \n",
       "3           CHEMBL205       CHEMBL100456   \n",
       "4           CHEMBL205       CHEMBL100580   \n",
       "...               ...                ...   \n",
       "4961        CHEMBL205        CHEMBL99697   \n",
       "4962        CHEMBL205        CHEMBL99736   \n",
       "4963        CHEMBL205        CHEMBL99855   \n",
       "4964        CHEMBL205        CHEMBL99927   \n",
       "4965        CHEMBL205        CHEMBL99958   \n",
       "\n",
       "                                       canonical_smiles standard_type  \\\n",
       "0     CC(C)c1cc(-c2ccccc2)cc(C(C)C)[n+]1CC(=O)OCCOc1...            Ki   \n",
       "1     CN(C)CCOC(=O)c1cccc(S(=O)(=O)Nc2nnc(S(N)(=O)=O...            Ki   \n",
       "2     CCN(CC)CCNC(=O)c1cccc(S(=O)(=O)Nc2nnc(S(N)(=O)...            Ki   \n",
       "3     CCc1cc(-c2ccccc2)cc(CC)[n+]1CC(=O)Oc1ccc2nc(S(...            Ki   \n",
       "4     Cc1cc(C)[n+](CC(=O)NNc2ccc(S(N)(=O)=O)cc2)c(C)...            Ki   \n",
       "...                                                 ...           ...   \n",
       "4961  CCc1cc(-c2ccccc2)cc(CC)[n+]1CC(=O)Nc1ccc(S(N)(...            Ki   \n",
       "4962  Cc1cc(C)[n+](CC(=O)NCCC(=O)Nc2nnc(S(N)(=O)=O)s...            Ki   \n",
       "4963  Cc1cc(-c2ccccc2)cc(C)[n+]1CC(=O)NCCC(=O)Nc1nnc...            Ki   \n",
       "4964  COCCOC(=O)c1ccc(S(=O)(=O)Nc2nnc(S(N)(=O)=O)s2)cc1            Ki   \n",
       "4965  Cc1cc(C)[n+](CC(=O)Nc2cccc(S(N)(=O)=O)c2)c(C)c...            Ki   \n",
       "\n",
       "     assay_type  pchembl_value  \n",
       "0             B           8.15  \n",
       "1             B           8.68  \n",
       "2             B           8.77  \n",
       "3             B           8.15  \n",
       "4             B           6.50  \n",
       "...         ...            ...  \n",
       "4961          B           7.82  \n",
       "4962          B           8.15  \n",
       "4963          B           8.40  \n",
       "4964          B           8.55  \n",
       "4965          B           6.60  \n",
       "\n",
       "[4966 rows x 6 columns]"
      ],
      "text/html": "<div>\n<style scoped>\n    .dataframe tbody tr th:only-of-type {\n        vertical-align: middle;\n    }\n\n    .dataframe tbody tr th {\n        vertical-align: top;\n    }\n\n    .dataframe thead th {\n        text-align: right;\n    }\n</style>\n<table border=\"1\" class=\"dataframe\">\n  <thead>\n    <tr style=\"text-align: right;\">\n      <th></th>\n      <th>target_chembl_id</th>\n      <th>molecule_chembl_id</th>\n      <th>canonical_smiles</th>\n      <th>standard_type</th>\n      <th>assay_type</th>\n      <th>pchembl_value</th>\n    </tr>\n  </thead>\n  <tbody>\n    <tr>\n      <th>0</th>\n      <td>CHEMBL205</td>\n      <td>CHEMBL100075</td>\n      <td>CC(C)c1cc(-c2ccccc2)cc(C(C)C)[n+]1CC(=O)OCCOc1...</td>\n      <td>Ki</td>\n      <td>B</td>\n      <td>8.15</td>\n    </tr>\n    <tr>\n      <th>1</th>\n      <td>CHEMBL205</td>\n      <td>CHEMBL100266</td>\n      <td>CN(C)CCOC(=O)c1cccc(S(=O)(=O)Nc2nnc(S(N)(=O)=O...</td>\n      <td>Ki</td>\n      <td>B</td>\n      <td>8.68</td>\n    </tr>\n    <tr>\n      <th>2</th>\n      <td>CHEMBL205</td>\n      <td>CHEMBL100329</td>\n      <td>CCN(CC)CCNC(=O)c1cccc(S(=O)(=O)Nc2nnc(S(N)(=O)...</td>\n      <td>Ki</td>\n      <td>B</td>\n      <td>8.77</td>\n    </tr>\n    <tr>\n      <th>3</th>\n      <td>CHEMBL205</td>\n      <td>CHEMBL100456</td>\n      <td>CCc1cc(-c2ccccc2)cc(CC)[n+]1CC(=O)Oc1ccc2nc(S(...</td>\n      <td>Ki</td>\n      <td>B</td>\n      <td>8.15</td>\n    </tr>\n    <tr>\n      <th>4</th>\n      <td>CHEMBL205</td>\n      <td>CHEMBL100580</td>\n      <td>Cc1cc(C)[n+](CC(=O)NNc2ccc(S(N)(=O)=O)cc2)c(C)...</td>\n      <td>Ki</td>\n      <td>B</td>\n      <td>6.50</td>\n    </tr>\n    <tr>\n      <th>...</th>\n      <td>...</td>\n      <td>...</td>\n      <td>...</td>\n      <td>...</td>\n      <td>...</td>\n      <td>...</td>\n    </tr>\n    <tr>\n      <th>4961</th>\n      <td>CHEMBL205</td>\n      <td>CHEMBL99697</td>\n      <td>CCc1cc(-c2ccccc2)cc(CC)[n+]1CC(=O)Nc1ccc(S(N)(...</td>\n      <td>Ki</td>\n      <td>B</td>\n      <td>7.82</td>\n    </tr>\n    <tr>\n      <th>4962</th>\n      <td>CHEMBL205</td>\n      <td>CHEMBL99736</td>\n      <td>Cc1cc(C)[n+](CC(=O)NCCC(=O)Nc2nnc(S(N)(=O)=O)s...</td>\n      <td>Ki</td>\n      <td>B</td>\n      <td>8.15</td>\n    </tr>\n    <tr>\n      <th>4963</th>\n      <td>CHEMBL205</td>\n      <td>CHEMBL99855</td>\n      <td>Cc1cc(-c2ccccc2)cc(C)[n+]1CC(=O)NCCC(=O)Nc1nnc...</td>\n      <td>Ki</td>\n      <td>B</td>\n      <td>8.40</td>\n    </tr>\n    <tr>\n      <th>4964</th>\n      <td>CHEMBL205</td>\n      <td>CHEMBL99927</td>\n      <td>COCCOC(=O)c1ccc(S(=O)(=O)Nc2nnc(S(N)(=O)=O)s2)cc1</td>\n      <td>Ki</td>\n      <td>B</td>\n      <td>8.55</td>\n    </tr>\n    <tr>\n      <th>4965</th>\n      <td>CHEMBL205</td>\n      <td>CHEMBL99958</td>\n      <td>Cc1cc(C)[n+](CC(=O)Nc2cccc(S(N)(=O)=O)c2)c(C)c...</td>\n      <td>Ki</td>\n      <td>B</td>\n      <td>6.60</td>\n    </tr>\n  </tbody>\n</table>\n<p>4966 rows × 6 columns</p>\n</div>"
     },
     "metadata": {},
     "execution_count": 3
    }
   ],
   "source": [
    "# Identify duplicated entries\n",
    "# df = df.sort_values(by='molecule_chembl_id')\n",
    "# df[df.duplicated(subset=['molecule_chembl_id'])]\n",
    "\n",
    "# Obtain the mean pchembl_value of duplicated entries – all entries are Ki\n",
    "# df.groupby('molecule_chembl_id')['pchembl_value'].mean()\n",
    "df = df.groupby(['target_chembl_id','molecule_chembl_id','canonical_smiles','standard_type','assay_type']).mean().reset_index()\n",
    "df"
   ]
  },
  {
   "cell_type": "code",
   "execution_count": 4,
   "metadata": {},
   "outputs": [],
   "source": [
    "# Compute features"
   ]
  },
  {
   "cell_type": "code",
   "execution_count": 5,
   "metadata": {},
   "outputs": [],
   "source": [
    "## Compute molecular descriptors using RDKit\n",
    "\n",
    "### Iterate over rows of the chembl dataframe – add row number and molecule info (obtained via Chem.MolFromSmiles) to mols\n",
    "mols = []\n",
    "for i, row in df.iterrows():\n",
    "    mols.append(Chem.MolFromSmiles(row['canonical_smiles']))\n",
    "df['RDKit_Molecule'] = mols"
   ]
  },
  {
   "cell_type": "code",
   "execution_count": 6,
   "metadata": {},
   "outputs": [],
   "source": [
    "### Obtain RDKit molecule descriptors\n",
    "\n",
    "#### List of descriptors – obtained from https://www.rdkit.org/docs/GettingStartedInPython.html#list-of-available-descriptors\n",
    "simplelist = ['Gasteiger/Marsili Partial Charges', 'BalabanJ', 'BertzCT', 'Ipc', 'HallKierAlpha', 'Kappa1 - Kappa3', 'Chi0, Chi1', 'Chi0n - Chi4n', 'Chi0v - Chi4v', 'MolLogP', 'MolMR', 'MolWt', 'ExactMolWt', 'HeavyAtomCount', 'HeavyAtomMolWt', 'NHOHCount', 'NOCount', 'NumHAcceptors', 'NumHDonors', 'NumHeteroatoms', 'NumRotatableBonds', 'NumValenceElectrons', 'NumAmideBonds', 'Num{Aromatic,Saturated,Aliphatic}Rings', 'Num{Aromatic,Saturated,Aliphatic}{Hetero,Carbo}cycles', 'RingCount', 'FractionCSP3', 'NumSpiroAtoms', 'NumBridgeheadAtoms', 'TPSA', 'LabuteASA', 'PEOE_VSA1 - PEOE_VSA14', 'SMR_VSA1 - SMR_VSA10', 'SlogP_VSA1 - SlogP_VSA12', 'EState_VSA1 - EState_VSA11', 'VSA_EState1 - VSA_EState10', 'MQNs', 'Topliss fragments', 'Autocorr2D', 'BCUT2D']  # In the list add the names of the descriptors required\n",
    "calculator = MoleculeDescriptors.MolecularDescriptorCalculator(simplelist)\n",
    "\n",
    "#### Calculate descriptors for each ligand in the df\n",
    "descriptors = []\n",
    "for i in range(df.shape[0]):\n",
    "    descriptors.append(calculator.CalcDescriptors(df['RDKit_Molecule'][i]))\n",
    "\n",
    "descriptors_df = pd.DataFrame(descriptors)\n",
    "descriptors_df.columns = simplelist"
   ]
  },
  {
   "cell_type": "code",
   "execution_count": 7,
   "metadata": {},
   "outputs": [
    {
     "output_type": "execute_result",
     "data": {
      "text/plain": [
       "     target_chembl_id molecule_chembl_id  \\\n",
       "0           CHEMBL205       CHEMBL100075   \n",
       "1           CHEMBL205       CHEMBL100266   \n",
       "2           CHEMBL205       CHEMBL100329   \n",
       "3           CHEMBL205       CHEMBL100456   \n",
       "4           CHEMBL205       CHEMBL100580   \n",
       "...               ...                ...   \n",
       "4961        CHEMBL205        CHEMBL99697   \n",
       "4962        CHEMBL205        CHEMBL99736   \n",
       "4963        CHEMBL205        CHEMBL99855   \n",
       "4964        CHEMBL205        CHEMBL99927   \n",
       "4965        CHEMBL205        CHEMBL99958   \n",
       "\n",
       "                                       canonical_smiles standard_type  \\\n",
       "0     CC(C)c1cc(-c2ccccc2)cc(C(C)C)[n+]1CC(=O)OCCOc1...            Ki   \n",
       "1     CN(C)CCOC(=O)c1cccc(S(=O)(=O)Nc2nnc(S(N)(=O)=O...            Ki   \n",
       "2     CCN(CC)CCNC(=O)c1cccc(S(=O)(=O)Nc2nnc(S(N)(=O)...            Ki   \n",
       "3     CCc1cc(-c2ccccc2)cc(CC)[n+]1CC(=O)Oc1ccc2nc(S(...            Ki   \n",
       "4     Cc1cc(C)[n+](CC(=O)NNc2ccc(S(N)(=O)=O)cc2)c(C)...            Ki   \n",
       "...                                                 ...           ...   \n",
       "4961  CCc1cc(-c2ccccc2)cc(CC)[n+]1CC(=O)Nc1ccc(S(N)(...            Ki   \n",
       "4962  Cc1cc(C)[n+](CC(=O)NCCC(=O)Nc2nnc(S(N)(=O)=O)s...            Ki   \n",
       "4963  Cc1cc(-c2ccccc2)cc(C)[n+]1CC(=O)NCCC(=O)Nc1nnc...            Ki   \n",
       "4964  COCCOC(=O)c1ccc(S(=O)(=O)Nc2nnc(S(N)(=O)=O)s2)cc1            Ki   \n",
       "4965  Cc1cc(C)[n+](CC(=O)Nc2cccc(S(N)(=O)=O)c2)c(C)c...            Ki   \n",
       "\n",
       "     assay_type  pchembl_value                                 RDKit_Molecule  \\\n",
       "0             B           8.15  <rdkit.Chem.rdchem.Mol object at 0x14529d0a0>   \n",
       "1             B           8.68  <rdkit.Chem.rdchem.Mol object at 0x10ded8dc0>   \n",
       "2             B           8.77  <rdkit.Chem.rdchem.Mol object at 0x14529d340>   \n",
       "3             B           8.15  <rdkit.Chem.rdchem.Mol object at 0x14529d3a0>   \n",
       "4             B           6.50  <rdkit.Chem.rdchem.Mol object at 0x14529d400>   \n",
       "...         ...            ...                                            ...   \n",
       "4961          B           7.82  <rdkit.Chem.rdchem.Mol object at 0x1453424c0>   \n",
       "4962          B           8.15  <rdkit.Chem.rdchem.Mol object at 0x145342520>   \n",
       "4963          B           8.40  <rdkit.Chem.rdchem.Mol object at 0x145342580>   \n",
       "4964          B           8.55  <rdkit.Chem.rdchem.Mol object at 0x1453425e0>   \n",
       "4965          B           6.60  <rdkit.Chem.rdchem.Mol object at 0x145342640>   \n",
       "\n",
       "      Gasteiger/Marsili Partial Charges      BalabanJ      BertzCT  ...  \\\n",
       "0                                   777  9.343417e-07  1620.257731  ...   \n",
       "1                                   777  2.165407e+00  1032.214622  ...   \n",
       "2                                   777  2.103708e+00  1063.616183  ...   \n",
       "3                                   777  7.321210e-07  1506.554420  ...   \n",
       "4                                   777  7.491665e-07   931.218948  ...   \n",
       "...                                 ...           ...          ...  ...   \n",
       "4961                                777  8.299137e-07  1284.022882  ...   \n",
       "4962                                777  9.197034e-07  1041.112855  ...   \n",
       "4963                                777  8.771663e-07  1317.364746  ...   \n",
       "4964                                777  2.115183e+00   984.086089  ...   \n",
       "4965                                777  6.963477e-07   929.945617  ...   \n",
       "\n",
       "       LabuteASA  PEOE_VSA1 - PEOE_VSA14  SMR_VSA1 - SMR_VSA10  \\\n",
       "0     255.299012                     777                   777   \n",
       "1     159.807526                     777                   777   \n",
       "2     172.973728                     777                   777   \n",
       "3     224.725698                     777                   777   \n",
       "4     169.718301                     777                   777   \n",
       "...          ...                     ...                   ...   \n",
       "4961  215.923605                     777                   777   \n",
       "4962  189.052626                     777                   777   \n",
       "4963  217.744778                     777                   777   \n",
       "4964  152.796296                     777                   777   \n",
       "4965  164.198303                     777                   777   \n",
       "\n",
       "      SlogP_VSA1 - SlogP_VSA12  EState_VSA1 - EState_VSA11  \\\n",
       "0                          777                         777   \n",
       "1                          777                         777   \n",
       "2                          777                         777   \n",
       "3                          777                         777   \n",
       "4                          777                         777   \n",
       "...                        ...                         ...   \n",
       "4961                       777                         777   \n",
       "4962                       777                         777   \n",
       "4963                       777                         777   \n",
       "4964                       777                         777   \n",
       "4965                       777                         777   \n",
       "\n",
       "      VSA_EState1 - VSA_EState10  MQNs  Topliss fragments  Autocorr2D  BCUT2D  \n",
       "0                            777   777                777         777     777  \n",
       "1                            777   777                777         777     777  \n",
       "2                            777   777                777         777     777  \n",
       "3                            777   777                777         777     777  \n",
       "4                            777   777                777         777     777  \n",
       "...                          ...   ...                ...         ...     ...  \n",
       "4961                         777   777                777         777     777  \n",
       "4962                         777   777                777         777     777  \n",
       "4963                         777   777                777         777     777  \n",
       "4964                         777   777                777         777     777  \n",
       "4965                         777   777                777         777     777  \n",
       "\n",
       "[4966 rows x 47 columns]"
      ],
      "text/html": "<div>\n<style scoped>\n    .dataframe tbody tr th:only-of-type {\n        vertical-align: middle;\n    }\n\n    .dataframe tbody tr th {\n        vertical-align: top;\n    }\n\n    .dataframe thead th {\n        text-align: right;\n    }\n</style>\n<table border=\"1\" class=\"dataframe\">\n  <thead>\n    <tr style=\"text-align: right;\">\n      <th></th>\n      <th>target_chembl_id</th>\n      <th>molecule_chembl_id</th>\n      <th>canonical_smiles</th>\n      <th>standard_type</th>\n      <th>assay_type</th>\n      <th>pchembl_value</th>\n      <th>RDKit_Molecule</th>\n      <th>Gasteiger/Marsili Partial Charges</th>\n      <th>BalabanJ</th>\n      <th>BertzCT</th>\n      <th>...</th>\n      <th>LabuteASA</th>\n      <th>PEOE_VSA1 - PEOE_VSA14</th>\n      <th>SMR_VSA1 - SMR_VSA10</th>\n      <th>SlogP_VSA1 - SlogP_VSA12</th>\n      <th>EState_VSA1 - EState_VSA11</th>\n      <th>VSA_EState1 - VSA_EState10</th>\n      <th>MQNs</th>\n      <th>Topliss fragments</th>\n      <th>Autocorr2D</th>\n      <th>BCUT2D</th>\n    </tr>\n  </thead>\n  <tbody>\n    <tr>\n      <th>0</th>\n      <td>CHEMBL205</td>\n      <td>CHEMBL100075</td>\n      <td>CC(C)c1cc(-c2ccccc2)cc(C(C)C)[n+]1CC(=O)OCCOc1...</td>\n      <td>Ki</td>\n      <td>B</td>\n      <td>8.15</td>\n      <td>&lt;rdkit.Chem.rdchem.Mol object at 0x14529d0a0&gt;</td>\n      <td>777</td>\n      <td>9.343417e-07</td>\n      <td>1620.257731</td>\n      <td>...</td>\n      <td>255.299012</td>\n      <td>777</td>\n      <td>777</td>\n      <td>777</td>\n      <td>777</td>\n      <td>777</td>\n      <td>777</td>\n      <td>777</td>\n      <td>777</td>\n      <td>777</td>\n    </tr>\n    <tr>\n      <th>1</th>\n      <td>CHEMBL205</td>\n      <td>CHEMBL100266</td>\n      <td>CN(C)CCOC(=O)c1cccc(S(=O)(=O)Nc2nnc(S(N)(=O)=O...</td>\n      <td>Ki</td>\n      <td>B</td>\n      <td>8.68</td>\n      <td>&lt;rdkit.Chem.rdchem.Mol object at 0x10ded8dc0&gt;</td>\n      <td>777</td>\n      <td>2.165407e+00</td>\n      <td>1032.214622</td>\n      <td>...</td>\n      <td>159.807526</td>\n      <td>777</td>\n      <td>777</td>\n      <td>777</td>\n      <td>777</td>\n      <td>777</td>\n      <td>777</td>\n      <td>777</td>\n      <td>777</td>\n      <td>777</td>\n    </tr>\n    <tr>\n      <th>2</th>\n      <td>CHEMBL205</td>\n      <td>CHEMBL100329</td>\n      <td>CCN(CC)CCNC(=O)c1cccc(S(=O)(=O)Nc2nnc(S(N)(=O)...</td>\n      <td>Ki</td>\n      <td>B</td>\n      <td>8.77</td>\n      <td>&lt;rdkit.Chem.rdchem.Mol object at 0x14529d340&gt;</td>\n      <td>777</td>\n      <td>2.103708e+00</td>\n      <td>1063.616183</td>\n      <td>...</td>\n      <td>172.973728</td>\n      <td>777</td>\n      <td>777</td>\n      <td>777</td>\n      <td>777</td>\n      <td>777</td>\n      <td>777</td>\n      <td>777</td>\n      <td>777</td>\n      <td>777</td>\n    </tr>\n    <tr>\n      <th>3</th>\n      <td>CHEMBL205</td>\n      <td>CHEMBL100456</td>\n      <td>CCc1cc(-c2ccccc2)cc(CC)[n+]1CC(=O)Oc1ccc2nc(S(...</td>\n      <td>Ki</td>\n      <td>B</td>\n      <td>8.15</td>\n      <td>&lt;rdkit.Chem.rdchem.Mol object at 0x14529d3a0&gt;</td>\n      <td>777</td>\n      <td>7.321210e-07</td>\n      <td>1506.554420</td>\n      <td>...</td>\n      <td>224.725698</td>\n      <td>777</td>\n      <td>777</td>\n      <td>777</td>\n      <td>777</td>\n      <td>777</td>\n      <td>777</td>\n      <td>777</td>\n      <td>777</td>\n      <td>777</td>\n    </tr>\n    <tr>\n      <th>4</th>\n      <td>CHEMBL205</td>\n      <td>CHEMBL100580</td>\n      <td>Cc1cc(C)[n+](CC(=O)NNc2ccc(S(N)(=O)=O)cc2)c(C)...</td>\n      <td>Ki</td>\n      <td>B</td>\n      <td>6.50</td>\n      <td>&lt;rdkit.Chem.rdchem.Mol object at 0x14529d400&gt;</td>\n      <td>777</td>\n      <td>7.491665e-07</td>\n      <td>931.218948</td>\n      <td>...</td>\n      <td>169.718301</td>\n      <td>777</td>\n      <td>777</td>\n      <td>777</td>\n      <td>777</td>\n      <td>777</td>\n      <td>777</td>\n      <td>777</td>\n      <td>777</td>\n      <td>777</td>\n    </tr>\n    <tr>\n      <th>...</th>\n      <td>...</td>\n      <td>...</td>\n      <td>...</td>\n      <td>...</td>\n      <td>...</td>\n      <td>...</td>\n      <td>...</td>\n      <td>...</td>\n      <td>...</td>\n      <td>...</td>\n      <td>...</td>\n      <td>...</td>\n      <td>...</td>\n      <td>...</td>\n      <td>...</td>\n      <td>...</td>\n      <td>...</td>\n      <td>...</td>\n      <td>...</td>\n      <td>...</td>\n      <td>...</td>\n    </tr>\n    <tr>\n      <th>4961</th>\n      <td>CHEMBL205</td>\n      <td>CHEMBL99697</td>\n      <td>CCc1cc(-c2ccccc2)cc(CC)[n+]1CC(=O)Nc1ccc(S(N)(...</td>\n      <td>Ki</td>\n      <td>B</td>\n      <td>7.82</td>\n      <td>&lt;rdkit.Chem.rdchem.Mol object at 0x1453424c0&gt;</td>\n      <td>777</td>\n      <td>8.299137e-07</td>\n      <td>1284.022882</td>\n      <td>...</td>\n      <td>215.923605</td>\n      <td>777</td>\n      <td>777</td>\n      <td>777</td>\n      <td>777</td>\n      <td>777</td>\n      <td>777</td>\n      <td>777</td>\n      <td>777</td>\n      <td>777</td>\n    </tr>\n    <tr>\n      <th>4962</th>\n      <td>CHEMBL205</td>\n      <td>CHEMBL99736</td>\n      <td>Cc1cc(C)[n+](CC(=O)NCCC(=O)Nc2nnc(S(N)(=O)=O)s...</td>\n      <td>Ki</td>\n      <td>B</td>\n      <td>8.15</td>\n      <td>&lt;rdkit.Chem.rdchem.Mol object at 0x145342520&gt;</td>\n      <td>777</td>\n      <td>9.197034e-07</td>\n      <td>1041.112855</td>\n      <td>...</td>\n      <td>189.052626</td>\n      <td>777</td>\n      <td>777</td>\n      <td>777</td>\n      <td>777</td>\n      <td>777</td>\n      <td>777</td>\n      <td>777</td>\n      <td>777</td>\n      <td>777</td>\n    </tr>\n    <tr>\n      <th>4963</th>\n      <td>CHEMBL205</td>\n      <td>CHEMBL99855</td>\n      <td>Cc1cc(-c2ccccc2)cc(C)[n+]1CC(=O)NCCC(=O)Nc1nnc...</td>\n      <td>Ki</td>\n      <td>B</td>\n      <td>8.40</td>\n      <td>&lt;rdkit.Chem.rdchem.Mol object at 0x145342580&gt;</td>\n      <td>777</td>\n      <td>8.771663e-07</td>\n      <td>1317.364746</td>\n      <td>...</td>\n      <td>217.744778</td>\n      <td>777</td>\n      <td>777</td>\n      <td>777</td>\n      <td>777</td>\n      <td>777</td>\n      <td>777</td>\n      <td>777</td>\n      <td>777</td>\n      <td>777</td>\n    </tr>\n    <tr>\n      <th>4964</th>\n      <td>CHEMBL205</td>\n      <td>CHEMBL99927</td>\n      <td>COCCOC(=O)c1ccc(S(=O)(=O)Nc2nnc(S(N)(=O)=O)s2)cc1</td>\n      <td>Ki</td>\n      <td>B</td>\n      <td>8.55</td>\n      <td>&lt;rdkit.Chem.rdchem.Mol object at 0x1453425e0&gt;</td>\n      <td>777</td>\n      <td>2.115183e+00</td>\n      <td>984.086089</td>\n      <td>...</td>\n      <td>152.796296</td>\n      <td>777</td>\n      <td>777</td>\n      <td>777</td>\n      <td>777</td>\n      <td>777</td>\n      <td>777</td>\n      <td>777</td>\n      <td>777</td>\n      <td>777</td>\n    </tr>\n    <tr>\n      <th>4965</th>\n      <td>CHEMBL205</td>\n      <td>CHEMBL99958</td>\n      <td>Cc1cc(C)[n+](CC(=O)Nc2cccc(S(N)(=O)=O)c2)c(C)c...</td>\n      <td>Ki</td>\n      <td>B</td>\n      <td>6.60</td>\n      <td>&lt;rdkit.Chem.rdchem.Mol object at 0x145342640&gt;</td>\n      <td>777</td>\n      <td>6.963477e-07</td>\n      <td>929.945617</td>\n      <td>...</td>\n      <td>164.198303</td>\n      <td>777</td>\n      <td>777</td>\n      <td>777</td>\n      <td>777</td>\n      <td>777</td>\n      <td>777</td>\n      <td>777</td>\n      <td>777</td>\n      <td>777</td>\n    </tr>\n  </tbody>\n</table>\n<p>4966 rows × 47 columns</p>\n</div>"
     },
     "metadata": {},
     "execution_count": 7
    }
   ],
   "source": [
    "df_w_rdkit_desc = pd.concat([df, descriptors_df], axis=1).reindex(df.index)\n",
    "df_w_rdkit_desc"
   ]
  },
  {
   "cell_type": "code",
   "execution_count": null,
   "metadata": {},
   "outputs": [],
   "source": []
  }
 ]
}
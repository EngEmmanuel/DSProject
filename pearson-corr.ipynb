{
 "metadata": {
  "language_info": {
   "codemirror_mode": {
    "name": "ipython",
    "version": 3
   },
   "file_extension": ".py",
   "mimetype": "text/x-python",
   "name": "python",
   "nbconvert_exporter": "python",
   "pygments_lexer": "ipython3",
   "version": "3.8.3-final"
  },
  "orig_nbformat": 2,
  "kernelspec": {
   "name": "python3",
   "display_name": "Python 3",
   "language": "python"
  }
 },
 "nbformat": 4,
 "nbformat_minor": 2,
 "cells": [
  {
   "cell_type": "code",
   "execution_count": 3,
   "metadata": {},
   "outputs": [],
   "source": [
    "from scipy import stats\n",
    "import pandas as pd"
   ]
  },
  {
   "cell_type": "code",
   "execution_count": 10,
   "metadata": {},
   "outputs": [],
   "source": [
    "y_test_cah2 = pd.read_csv('cah2_y_test.csv',delimiter='\\t',names=['Y'])\n",
    "ylr_pred_cah2 = pd.read_csv('cah2_ylr_pred.csv',delimiter='\\t',names=['Y'])\n",
    "yrfr_pred_cah2 = pd.read_csv('cah2_yrfr_pred.csv',delimiter='\\t',names=['Y'])\n",
    "ygb_pred_cah2 = pd.read_csv('cah2_ygb_pred.csv',delimiter='\\t',names=['Y'])\n",
    "\n",
    "y_test_10p = pd.read_csv('y_test.csv',delimiter='\\t',names=['Y'])\n",
    "ylr_pred_10p = pd.read_csv('ylr_pred.csv',delimiter='\\t',names=['Y'])\n",
    "yrfr_pred_10p = pd.read_csv('yrfr_pred.csv',delimiter='\\t',names=['Y'])\n",
    "ygb_pred_10p = pd.read_csv('ygb_pred.csv',delimiter='\\t',names=['Y'])"
   ]
  },
  {
   "cell_type": "code",
   "execution_count": 13,
   "metadata": {},
   "outputs": [
    {
     "output_type": "stream",
     "name": "stdout",
     "text": [
      "(0.6664768258002288, 7.556753841309136e-64) (0.6389335648067607, 3.148544258888343e-57) (0.8012928086228305, 2.821948739995742e-110)\n(0.6636133848388297, 3.671792353129952e-188) (0.5473530374402213, 3.3375060768227625e-116) (0.8104488705572572, 0.0)\n"
     ]
    }
   ],
   "source": [
    "r_lr_cah2 = stats.pearsonr(y_test_cah2['Y'].tolist(),ylr_pred_cah2['Y'].tolist())\n",
    "r_rfr_cah2 = stats.pearsonr(y_test_cah2['Y'].tolist(),yrfr_pred_cah2['Y'].tolist())\n",
    "r_gb_cah2 = stats.pearsonr(y_test_cah2['Y'].tolist(),ygb_pred_cah2['Y'].tolist())\n",
    "\n",
    "print(r_lr_cah2,r_rfr_cah2,r_gb_cah2)\n",
    "\n",
    "r_lr_10p = stats.pearsonr(y_test_10p['Y'].tolist(),ylr_pred_10p['Y'].tolist())\n",
    "r_rfr_10p = stats.pearsonr(y_test_10p['Y'].tolist(),yrfr_pred_10p['Y'].tolist())\n",
    "r_gb_10p = stats.pearsonr(y_test_10p['Y'].tolist(),ygb_pred_10p['Y'].tolist())\n",
    "\n",
    "print(r_lr_10p,r_rfr_10p,r_gb_10p)"
   ]
  },
  {
   "cell_type": "code",
   "execution_count": null,
   "metadata": {},
   "outputs": [],
   "source": []
  }
 ]
}